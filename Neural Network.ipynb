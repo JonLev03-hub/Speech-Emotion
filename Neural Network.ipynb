{
 "cells": [
  {
   "cell_type": "code",
   "execution_count": 1,
   "id": "diagnostic-album",
   "metadata": {},
   "outputs": [],
   "source": [
    "import librosa    # For feature extraction\n",
    "import os    # For file navigation\n",
    "import soundfile    # To open sound files\n",
    "import numpy as np    # better number processing\n",
    "from IPython.display import clear_output    # Clear cell outputs\n",
    "\n",
    "# Machine Learning and metrics\n",
    "from sklearn.model_selection import train_test_split\n",
    "from sklearn.neural_network import MLPClassifier\n",
    "from sklearn.metrics import accuracy_score, confusion_matrix\n",
    "\n",
    "# import model saving \n",
    "import joblib"
   ]
  },
  {
   "cell_type": "code",
   "execution_count": 2,
   "id": "narrow-moscow",
   "metadata": {},
   "outputs": [],
   "source": [
    "# give this function a file and it will return the features from the audio as a list\n",
    "def get_features(file):\n",
    "    \n",
    "    with soundfile.SoundFile(file) as sound_file:\n",
    "        \n",
    "        result = np.array([])\n",
    "        X = sound_file.read(dtype=\"float32\")\n",
    "        \n",
    "        # Extract Features\n",
    "        sample_rate = sound_file.samplerate\n",
    "        stft = np.abs(librosa.stft(X))\n",
    "        \n",
    "        mfccs = np.mean(librosa.feature.mfcc(y=X, sr=sample_rate, n_mfcc=40).T, axis=0)\n",
    "        result = np.hstack((result, mfccs))\n",
    "        \n",
    "        chroma = np.mean(librosa.feature.chroma_stft(S=stft, sr=sample_rate).T,axis=0)\n",
    "        result = np.hstack((result, chroma))\n",
    "        \n",
    "        mel = np.mean(librosa.feature.melspectrogram(X, sr=sample_rate).T,axis=0)\n",
    "        result = np.hstack((result, mel))\n",
    "        \n",
    "    return result"
   ]
  },
  {
   "cell_type": "code",
   "execution_count": 3,
   "id": "promising-canon",
   "metadata": {},
   "outputs": [],
   "source": [
    "# Convert emotions to ID\n",
    "emotions = {\n",
    "    \"01\": \"neutral\",\n",
    "    \"02\": \"calm\",\n",
    "    \"03\": \"happy\",\n",
    "    \"04\": \"sad\",\n",
    "    \"05\": \"angry\",\n",
    "    \"06\": \"fearful\",\n",
    "    \"07\": \"disgust\",\n",
    "    \"08\": \"surprised\"\n",
    "}\n",
    "\n",
    "# List emotions that you would like to test\n",
    "used_emotions = {\n",
    "    \"03\": \"happy\",\n",
    "    \"05\": \"angry\",\n",
    "    \"04\": \"sad\"\n",
    "}"
   ]
  },
  {
   "cell_type": "code",
   "execution_count": 4,
   "id": "alleged-corrections",
   "metadata": {},
   "outputs": [
    {
     "name": "stdout",
     "output_type": "stream",
     "text": [
      "total files added : 576\n"
     ]
    }
   ],
   "source": [
    "directory = \"data_16khz\"\n",
    "X,y = [],[]\n",
    "total = 0\n",
    "\n",
    "# get features for all audio files in directory\n",
    "for dir,sub_dir,files in os.walk(directory):\n",
    "    for file in files:\n",
    "        # Check if emotion is in used emotions\n",
    "        emotion = file.split(\"-\")[2]\n",
    "        if emotion not in used_emotions: continue\n",
    "        \n",
    "        # add to counter\n",
    "        total += 1\n",
    "        clear_output(wait=True)\n",
    "        print(\"total files added :\",total)\n",
    "        \n",
    "        # Get features\n",
    "        url = dir+\"\\\\\"+file\n",
    "        y.append(emotions[emotion])\n",
    "        X.append(get_features(url))"
   ]
  },
  {
   "cell_type": "code",
   "execution_count": 5,
   "id": "incorporated-wyoming",
   "metadata": {},
   "outputs": [],
   "source": [
    "# Split data into train and test sets\n",
    "X_train,X_test,y_train,y_test = train_test_split(X,y)"
   ]
  },
  {
   "cell_type": "code",
   "execution_count": 6,
   "id": "occupied-bowling",
   "metadata": {},
   "outputs": [
    {
     "name": "stdout",
     "output_type": "stream",
     "text": [
      "Accuracy of the Recognizer is: 66.7%\n"
     ]
    }
   ],
   "source": [
    "# Build model\n",
    "model = MLPClassifier(hidden_layer_sizes=(175), learning_rate='adaptive', max_iter=1000,epsilon= 1e-08,alpha = .01)\n",
    "\n",
    "# Train Model\n",
    "model.fit(X_train, y_train)\n",
    "\n",
    "# Test Model\n",
    "accuracy = model.score(X_test,y_test)\n",
    "\n",
    "# Show accuracy\n",
    "print(\"Accuracy of the Recognizer is: {:.1f}%\".format(accuracy*100))"
   ]
  },
  {
   "cell_type": "code",
   "execution_count": null,
   "id": "noble-sterling",
   "metadata": {},
   "outputs": [],
   "source": [
    "# Test multiple model configurations\n",
    "\n",
    "test_model_count = 100\n",
    "epochs = 800\n",
    "max_hidden_layer_count = 3\n",
    "min_nodes = 75\n",
    "max_nodes = 300\n",
    "best_accuracy = 0\n",
    "\n",
    "for _ in range(test_model_count) :\n",
    "    \n",
    "    # Build a new model\n",
    "    model = MLPClassifier(hidden_layer_sizes=(np.random.randint(min_nodes,max_nodes,np.random.randint(1,max_hidden_layer_count))), learning_rate='adaptive', max_iter=epochs,epsilon= 1e-08,alpha = .01)\n",
    "    model.fit(X_train, y_train)\n",
    "    \n",
    "    # Train Model\n",
    "    model.fit(X_train, y_train)\n",
    "    \n",
    "    # Create Accuracy Score\n",
    "    accuracy = model.score(X_test,y_test)\n",
    "                                \n",
    "    # If model outperformed last save model and print results\n",
    "    if accuracy > best_accuracy:\n",
    "        print(\"Accuracy of the Recognizer has gone to: {:.1f}%\".format(accuracy*100))\n",
    "        best_accuracy = accuracy\n",
    "        if accuracy > .75:\n",
    "            joblib.dump(model, \"models/model{:.1f}\".format(accuracy*100))\n",
    "            print(\"Model Saved\")\n",
    "                          "
   ]
  }
 ],
 "metadata": {
  "kernelspec": {
   "display_name": "speechTone",
   "language": "python",
   "name": "speechtone"
  },
  "language_info": {
   "codemirror_mode": {
    "name": "ipython",
    "version": 3
   },
   "file_extension": ".py",
   "mimetype": "text/x-python",
   "name": "python",
   "nbconvert_exporter": "python",
   "pygments_lexer": "ipython3",
   "version": "3.9.1"
  }
 },
 "nbformat": 4,
 "nbformat_minor": 5
}
