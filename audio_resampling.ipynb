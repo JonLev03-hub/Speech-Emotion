{
 "cells": [
  {
   "cell_type": "code",
   "execution_count": null,
   "id": "designing-baker",
   "metadata": {},
   "outputs": [],
   "source": [
    "import librosa\n",
    "import os\n",
    "from IPython.display import clear_output\n",
    "from text_image import ominous_import_1"
   ]
  },
  {
   "cell_type": "code",
   "execution_count": null,
   "id": "steady-professor",
   "metadata": {},
   "outputs": [],
   "source": [
    "sample_rate = 16000\n",
    "directory = \"data\"\n",
    "save_directory = \"data_16khz\"\n",
    "total_failed = 0\n",
    "total_sub_dirs = os.listdir(directory)\n",
    "for dir,sub_dir,files in os.walk(directory):\n",
    "    os.mkdir(save_directory+dir[len(directory):])\n",
    "    for file in files:\n",
    "        save_url = save_directory+dir[len(directory):]+\"\\\\\"+file\n",
    "        url = dir+\"\\\\\"+file\n",
    "        cmd = f\"ffmpeg -i {url} -ac 1 -ar {sample_rate} {save_url}\"\n",
    "        request = os.system(cmd)\n",
    "        if request:\n",
    "            total_failed += 1\n",
    "            print(cmd)\n",
    "    clear_output(wait=True)\n",
    "    print(f\"There have been a total of {total_failed} failed commands\")\n",
    "    print(f\"Current Directory -- > {dir}\")\n",
    "if not total_failed: \n",
    "    clear_output(wait=True)\n",
    "    print(ominous_import_1[\"msg_one\"])     "
   ]
  },
  {
   "cell_type": "code",
   "execution_count": null,
   "id": "functional-productivity",
   "metadata": {},
   "outputs": [],
   "source": []
  }
 ],
 "metadata": {
  "kernelspec": {
   "display_name": "Python 3",
   "language": "python",
   "name": "python3"
  },
  "language_info": {
   "codemirror_mode": {
    "name": "ipython",
    "version": 3
   },
   "file_extension": ".py",
   "mimetype": "text/x-python",
   "name": "python",
   "nbconvert_exporter": "python",
   "pygments_lexer": "ipython3",
   "version": "3.9.1"
  }
 },
 "nbformat": 4,
 "nbformat_minor": 5
}
