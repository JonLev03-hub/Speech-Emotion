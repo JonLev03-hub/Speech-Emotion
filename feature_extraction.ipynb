{
 "cells": [
  {
   "cell_type": "code",
   "execution_count": 52,
   "id": "diagnostic-album",
   "metadata": {},
   "outputs": [],
   "source": [
    "import librosa\n",
    "import os\n",
    "import pandas\n",
    "import soundfile\n",
    "import numpy as np\n",
    "import pandas as pd"
   ]
  },
  {
   "cell_type": "code",
   "execution_count": 78,
   "id": "narrow-moscow",
   "metadata": {},
   "outputs": [],
   "source": [
    "# pass this function a file and it will return a list of features.\n",
    "def get_features(file,**features):\n",
    "    with soundfile.SoundFile(file) as sound_file:\n",
    "        result = np.array([])\n",
    "        X = sound_file.read(dtype=\"float32\")\n",
    "        sample_rate = sound_file.samplerate\n",
    "        stft = np.abs(librosa.stft(X))\n",
    "        \n",
    "        mfccs = np.mean(librosa.feature.mfcc(y=X, sr=sample_rate, n_mfcc=40).T, axis=0)\n",
    "        result = np.hstack((result, mfccs))\n",
    "        \n",
    "        chroma = np.mean(librosa.feature.chroma_stft(S=stft, sr=sample_rate).T,axis=0)\n",
    "        result = np.hstack((result, chroma))\n",
    "        \n",
    "        mel = np.mean(librosa.feature.melspectrogram(X, sr=sample_rate).T,axis=0)\n",
    "        result = np.hstack((result, mel))\n",
    "        \n",
    "    return result"
   ]
  },
  {
   "cell_type": "code",
   "execution_count": 79,
   "id": "apart-split",
   "metadata": {},
   "outputs": [
    {
     "name": "stderr",
     "output_type": "stream",
     "text": [
      "<ipython-input-78-a9b9c149178e>:15: FutureWarning: Pass y=[0. 0. 0. ... 0. 0. 0.] as keyword args. From version 0.10 passing these as positional arguments will result in an error\n",
      "  mel = np.mean(librosa.feature.melspectrogram(X, sr=sample_rate).T,axis=0)\n"
     ]
    },
    {
     "data": {
      "text/plain": [
       "array([-6.93497009e+02,  5.00643921e+01,  5.71450472e-01,  1.43299656e+01,\n",
       "        3.33637071e+00, -2.54071975e+00, -4.05790901e+00, -1.07119989e+01,\n",
       "       -7.29413891e+00,  1.74018884e+00, -4.19064283e+00,  1.95466173e+00,\n",
       "       -5.24789429e+00,  2.78143024e+00, -3.16756773e+00, -3.40008307e+00,\n",
       "       -2.37803173e+00, -5.68717599e-01, -6.47753334e+00, -1.24320543e+00,\n",
       "       -2.80542517e+00, -5.43635845e+00, -4.46875274e-01, -3.63516593e+00,\n",
       "       -2.98372602e+00, -5.63902617e-01, -1.65101945e+00, -5.55944860e-01,\n",
       "       -3.41018438e+00, -2.24465466e+00, -3.13058877e+00, -2.70089960e+00,\n",
       "       -1.88821328e+00, -5.54154515e-01, -3.96459866e+00, -2.13485193e+00,\n",
       "       -3.94577074e+00, -1.62457871e+00, -2.03990722e+00, -3.62910867e+00,\n",
       "        6.33734643e-01,  6.48760676e-01,  6.21744275e-01,  6.34553194e-01,\n",
       "        6.60345674e-01,  6.60463989e-01,  7.00948954e-01,  7.31556296e-01,\n",
       "        7.46921480e-01,  7.23420501e-01,  7.16119647e-01,  6.30602837e-01,\n",
       "        6.52830522e-07,  2.22643266e-05,  8.42613052e-04,  1.37719270e-02,\n",
       "        2.83742324e-02,  3.12111340e-02,  8.02663714e-03,  3.56961833e-03,\n",
       "        2.32551787e-02,  2.45211683e-02,  1.87926665e-02,  2.44478174e-02,\n",
       "        1.16031338e-02,  8.60342104e-03,  6.71913056e-03,  9.94843338e-03,\n",
       "        1.89656094e-02,  5.04483357e-02,  4.14051339e-02,  9.96424630e-03,\n",
       "        9.64601431e-03,  1.54170115e-02,  4.05186079e-02,  2.10739672e-02,\n",
       "        2.12946744e-03,  2.76945531e-03,  5.57055743e-03,  1.91831719e-02,\n",
       "        1.36224311e-02,  1.21960300e-03,  6.94197835e-04,  8.96891870e-04,\n",
       "        8.47186951e-04,  3.62369727e-04,  2.21950642e-04,  1.40306875e-04,\n",
       "        2.73740763e-04,  3.75907082e-04,  8.28741468e-04,  8.59786058e-04,\n",
       "        6.12733071e-04,  3.95248993e-04,  2.20409813e-04,  3.04378307e-04,\n",
       "        1.89061835e-03,  1.24956481e-03,  1.03854900e-03,  2.60822126e-03,\n",
       "        3.86649882e-03,  4.33528004e-03,  9.54611111e-04,  4.93530591e-04,\n",
       "        4.47093364e-04,  8.03626666e-04,  7.09871238e-04,  3.92192771e-04,\n",
       "        6.18621008e-04,  9.43593972e-04,  7.60865456e-04,  7.23498932e-04,\n",
       "        1.00387214e-03,  9.19646292e-04,  8.18870671e-04,  5.08129189e-04,\n",
       "        4.11667366e-04,  4.03237646e-04,  1.48571417e-04,  6.84264640e-04,\n",
       "        1.38615607e-03,  2.92808865e-04,  5.09449237e-05,  7.45297148e-05,\n",
       "        1.39878655e-04,  8.93816250e-05,  1.35135109e-04,  1.09651708e-04,\n",
       "        2.46569631e-04,  7.43343204e-04,  4.77164402e-04,  6.96408853e-04,\n",
       "        4.74705710e-04,  2.55434716e-04,  1.59143689e-04,  8.08707482e-05,\n",
       "        9.79213364e-05,  8.84003966e-05,  9.75710282e-05,  1.17046940e-04,\n",
       "        1.84339995e-04,  1.69435385e-04,  2.55546009e-04,  2.40519104e-04,\n",
       "        4.28831205e-04,  2.98486266e-04,  4.27471416e-04,  1.06324667e-04,\n",
       "        5.85673333e-05,  2.31044742e-05,  8.89405237e-06,  1.98013931e-05,\n",
       "        1.09333178e-05,  3.66455424e-05,  3.68459841e-05,  5.25096366e-05,\n",
       "        3.77127617e-05,  8.86667185e-05,  7.79374677e-05,  4.24979553e-05,\n",
       "        6.51855808e-05,  3.53608302e-05,  2.41367925e-05,  2.45215579e-05,\n",
       "        2.89214531e-05,  3.95157222e-05,  2.72971356e-05,  1.96686051e-05,\n",
       "        1.51977429e-05,  1.06007192e-05,  7.99631744e-06,  6.07571974e-06,\n",
       "        4.48540641e-06,  4.12061945e-06,  3.71885608e-06,  3.93320897e-06,\n",
       "        3.48488334e-06,  4.07551670e-06,  1.81608061e-06,  7.83327664e-07])"
      ]
     },
     "execution_count": 79,
     "metadata": {},
     "output_type": "execute_result"
    }
   ],
   "source": [
    "get_features(\"data_16kHz\\\\Actor_01\\\\03-01-01-01-01-01-01.wav\")"
   ]
  },
  {
   "cell_type": "code",
   "execution_count": 62,
   "id": "alleged-corrections",
   "metadata": {},
   "outputs": [
    {
     "name": "stderr",
     "output_type": "stream",
     "text": [
      "<ipython-input-62-60e9e18e6610>:31: FutureWarning: Pass y=[0. 0. 0. ... 0. 0. 0.] as keyword args. From version 0.10 passing these as positional arguments will result in an error\n",
      "  mel = np.mean(librosa.feature.melspectrogram(X, sr=sample_rate).T,axis=0)\n"
     ]
    },
    {
     "data": {
      "text/plain": [
       "array([-6.93497009e+02,  5.00643921e+01,  5.71450472e-01,  1.43299656e+01,\n",
       "        3.33637071e+00, -2.54071975e+00, -4.05790901e+00, -1.07119989e+01,\n",
       "       -7.29413891e+00,  1.74018884e+00, -4.19064283e+00,  1.95466173e+00,\n",
       "       -5.24789429e+00,  2.78143024e+00, -3.16756773e+00, -3.40008307e+00,\n",
       "       -2.37803173e+00, -5.68717599e-01, -6.47753334e+00, -1.24320543e+00,\n",
       "       -2.80542517e+00, -5.43635845e+00, -4.46875274e-01, -3.63516593e+00,\n",
       "       -2.98372602e+00, -5.63902617e-01, -1.65101945e+00, -5.55944860e-01,\n",
       "       -3.41018438e+00, -2.24465466e+00, -3.13058877e+00, -2.70089960e+00,\n",
       "       -1.88821328e+00, -5.54154515e-01, -3.96459866e+00, -2.13485193e+00,\n",
       "       -3.94577074e+00, -1.62457871e+00, -2.03990722e+00, -3.62910867e+00,\n",
       "        6.33734643e-01,  6.48760676e-01,  6.21744275e-01,  6.34553194e-01,\n",
       "        6.60345674e-01,  6.60463989e-01,  7.00948954e-01,  7.31556296e-01,\n",
       "        7.46921480e-01,  7.23420501e-01,  7.16119647e-01,  6.30602837e-01,\n",
       "        6.52830522e-07,  2.22643266e-05,  8.42613052e-04,  1.37719270e-02,\n",
       "        2.83742324e-02,  3.12111340e-02,  8.02663714e-03,  3.56961833e-03,\n",
       "        2.32551787e-02,  2.45211683e-02,  1.87926665e-02,  2.44478174e-02,\n",
       "        1.16031338e-02,  8.60342104e-03,  6.71913056e-03,  9.94843338e-03,\n",
       "        1.89656094e-02,  5.04483357e-02,  4.14051339e-02,  9.96424630e-03,\n",
       "        9.64601431e-03,  1.54170115e-02,  4.05186079e-02,  2.10739672e-02,\n",
       "        2.12946744e-03,  2.76945531e-03,  5.57055743e-03,  1.91831719e-02,\n",
       "        1.36224311e-02,  1.21960300e-03,  6.94197835e-04,  8.96891870e-04,\n",
       "        8.47186951e-04,  3.62369727e-04,  2.21950642e-04,  1.40306875e-04,\n",
       "        2.73740763e-04,  3.75907082e-04,  8.28741468e-04,  8.59786058e-04,\n",
       "        6.12733071e-04,  3.95248993e-04,  2.20409813e-04,  3.04378307e-04,\n",
       "        1.89061835e-03,  1.24956481e-03,  1.03854900e-03,  2.60822126e-03,\n",
       "        3.86649882e-03,  4.33528004e-03,  9.54611111e-04,  4.93530591e-04,\n",
       "        4.47093364e-04,  8.03626666e-04,  7.09871238e-04,  3.92192771e-04,\n",
       "        6.18621008e-04,  9.43593972e-04,  7.60865456e-04,  7.23498932e-04,\n",
       "        1.00387214e-03,  9.19646292e-04,  8.18870671e-04,  5.08129189e-04,\n",
       "        4.11667366e-04,  4.03237646e-04,  1.48571417e-04,  6.84264640e-04,\n",
       "        1.38615607e-03,  2.92808865e-04,  5.09449237e-05,  7.45297148e-05,\n",
       "        1.39878655e-04,  8.93816250e-05,  1.35135109e-04,  1.09651708e-04,\n",
       "        2.46569631e-04,  7.43343204e-04,  4.77164402e-04,  6.96408853e-04,\n",
       "        4.74705710e-04,  2.55434716e-04,  1.59143689e-04,  8.08707482e-05,\n",
       "        9.79213364e-05,  8.84003966e-05,  9.75710282e-05,  1.17046940e-04,\n",
       "        1.84339995e-04,  1.69435385e-04,  2.55546009e-04,  2.40519104e-04,\n",
       "        4.28831205e-04,  2.98486266e-04,  4.27471416e-04,  1.06324667e-04,\n",
       "        5.85673333e-05,  2.31044742e-05,  8.89405237e-06,  1.98013931e-05,\n",
       "        1.09333178e-05,  3.66455424e-05,  3.68459841e-05,  5.25096366e-05,\n",
       "        3.77127617e-05,  8.86667185e-05,  7.79374677e-05,  4.24979553e-05,\n",
       "        6.51855808e-05,  3.53608302e-05,  2.41367925e-05,  2.45215579e-05,\n",
       "        2.89214531e-05,  3.95157222e-05,  2.72971356e-05,  1.96686051e-05,\n",
       "        1.51977429e-05,  1.06007192e-05,  7.99631744e-06,  6.07571974e-06,\n",
       "        4.48540641e-06,  4.12061945e-06,  3.71885608e-06,  3.93320897e-06,\n",
       "        3.48488334e-06,  4.07551670e-06,  1.81608061e-06,  7.83327664e-07])"
      ]
     },
     "execution_count": 62,
     "metadata": {},
     "output_type": "execute_result"
    }
   ],
   "source": [
    "def extract_feature(file_name, **kwargs):\n",
    "    \"\"\"\n",
    "    Extract feature from audio file `file_name`\n",
    "        Features supported:\n",
    "            - MFCC (mfcc)\n",
    "            - Chroma (chroma)\n",
    "            - MEL Spectrogram Frequency (mel)\n",
    "            - Contrast (contrast)\n",
    "            - Tonnetz (tonnetz)\n",
    "        e.g:\n",
    "        `features = extract_feature(path, mel=True, mfcc=True)`\n",
    "    \"\"\"\n",
    "    mfcc = kwargs.get(\"mfcc\")\n",
    "    chroma = kwargs.get(\"chroma\")\n",
    "    mel = kwargs.get(\"mel\")\n",
    "    contrast = kwargs.get(\"contrast\")\n",
    "    tonnetz = kwargs.get(\"tonnetz\")\n",
    "    with soundfile.SoundFile(file_name) as sound_file:\n",
    "        X = sound_file.read(dtype=\"float32\")\n",
    "        sample_rate = sound_file.samplerate\n",
    "        if chroma or contrast:\n",
    "            stft = np.abs(librosa.stft(X))\n",
    "        result = np.array([])\n",
    "        if mfcc:\n",
    "            mfccs = np.mean(librosa.feature.mfcc(y=X, sr=sample_rate, n_mfcc=40).T, axis=0)\n",
    "            result = np.hstack((result, mfccs))\n",
    "        if chroma:\n",
    "            chroma = np.mean(librosa.feature.chroma_stft(S=stft, sr=sample_rate).T,axis=0)\n",
    "            result = np.hstack((result, chroma))\n",
    "        if mel:\n",
    "            mel = np.mean(librosa.feature.melspectrogram(X, sr=sample_rate).T,axis=0)\n",
    "            result = np.hstack((result, mel))\n",
    "        if contrast:\n",
    "            contrast = np.mean(librosa.feature.spectral_contrast(S=stft, sr=sample_rate).T,axis=0)\n",
    "            result = np.hstack((result, contrast))\n",
    "        if tonnetz:\n",
    "            tonnetz = np.mean(librosa.feature.tonnetz(y=librosa.effects.harmonic(X), sr=sample_rate).T,axis=0)\n",
    "            result = np.hstack((result, tonnetz))\n",
    "    return result\n",
    "extract_feature(\"data_16kHz\\\\Actor_01\\\\03-01-01-01-01-01-01.wav\", mfcc=True, chroma=True, mel=True)"
   ]
  },
  {
   "cell_type": "code",
   "execution_count": null,
   "id": "plain-hollywood",
   "metadata": {},
   "outputs": [],
   "source": []
  }
 ],
 "metadata": {
  "kernelspec": {
   "display_name": "speechTone",
   "language": "python",
   "name": "speechtone"
  },
  "language_info": {
   "codemirror_mode": {
    "name": "ipython",
    "version": 3
   },
   "file_extension": ".py",
   "mimetype": "text/x-python",
   "name": "python",
   "nbconvert_exporter": "python",
   "pygments_lexer": "ipython3",
   "version": "3.9.1"
  }
 },
 "nbformat": 4,
 "nbformat_minor": 5
}
